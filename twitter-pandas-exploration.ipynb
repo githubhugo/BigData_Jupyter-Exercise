{
 "cells": [
  {
   "cell_type": "code",
   "execution_count": 8,
   "metadata": {
    "collapsed": false
   },
   "outputs": [],
   "source": [
    "import pandas as pd"
   ]
  },
  {
   "cell_type": "code",
   "execution_count": 9,
   "metadata": {
    "collapsed": true
   },
   "outputs": [],
   "source": [
    "import numpy as np"
   ]
  },
  {
   "cell_type": "code",
   "execution_count": 10,
   "metadata": {
    "collapsed": true
   },
   "outputs": [],
   "source": [
    "import warnings\n",
    "warnings.filterwarnings(\"ignore\")"
   ]
  },
  {
   "cell_type": "code",
   "execution_count": 11,
   "metadata": {
    "collapsed": true
   },
   "outputs": [],
   "source": [
    "pd.set_option('display.max_columns', 30)\n",
    "pd.set_option('display.width', 200)\n",
    "pd.set_option('display.max_colwidth', 100)"
   ]
  },
  {
   "cell_type": "code",
   "execution_count": 12,
   "metadata": {
    "collapsed": false
   },
   "outputs": [],
   "source": [
    "data_path = 'C:/Users/Hugo/Documents/BTS - MDSD/Big Data/data/DF-Data_twitter_vine/twitter-vine-clean.tsv.bz2'\n",
    "\n",
    "rawdf = pd.read_csv('../../data/DF-Data_twitter_vine/twitter-vine-clean.tsv.bz2', sep='\\t', compression='bz2')"
   ]
  },
  {
   "cell_type": "code",
   "execution_count": 14,
   "metadata": {
    "collapsed": false
   },
   "outputs": [
    {
     "name": "stdout",
     "output_type": "stream",
     "text": [
      "See number of rows and number of columns:\n",
      "(2129755, 22)\n"
     ]
    }
   ],
   "source": [
    "print('Number of rows and columns:')\n",
    "print(rawdf.shape)"
   ]
  },
  {
   "cell_type": "code",
   "execution_count": 21,
   "metadata": {
    "collapsed": false
   },
   "outputs": [
    {
     "name": "stdout",
     "output_type": "stream",
     "text": [
      "See the top 2 lines:\n"
     ]
    },
    {
     "data": {
      "text/html": [
       "<div>\n",
       "<table border=\"1\" class=\"dataframe\">\n",
       "  <thead>\n",
       "    <tr style=\"text-align: right;\">\n",
       "      <th></th>\n",
       "      <th>created_at</th>\n",
       "      <th>tweet_id</th>\n",
       "      <th>text</th>\n",
       "      <th>source</th>\n",
       "      <th>favorited</th>\n",
       "      <th>retweeted</th>\n",
       "      <th>possibly_sensitive</th>\n",
       "      <th>lang</th>\n",
       "      <th>geo</th>\n",
       "      <th>coordinates</th>\n",
       "      <th>hashtags</th>\n",
       "      <th>urls</th>\n",
       "      <th>user_mentions</th>\n",
       "      <th>in_reply_to_user_id</th>\n",
       "      <th>retweet_count</th>\n",
       "      <th>user_id</th>\n",
       "      <th>user_name</th>\n",
       "      <th>user_location</th>\n",
       "      <th>user_followers_count</th>\n",
       "      <th>user_friends_count</th>\n",
       "      <th>user_created_at</th>\n",
       "      <th>user_verified</th>\n",
       "    </tr>\n",
       "  </thead>\n",
       "  <tbody>\n",
       "    <tr>\n",
       "      <th>0</th>\n",
       "      <td>2013-01-28T13:41:54+00:00</td>\n",
       "      <td>295889441355071488</td>\n",
       "      <td>BBC News - Twitter launches Vine micro-video sharing service http://t.co/MykDuEgx</td>\n",
       "      <td>&lt;a href=\"http://twitter.com/tweetbutton\" rel=\"nofollow\"&gt;Tweet Button&lt;/a&gt;</td>\n",
       "      <td>False</td>\n",
       "      <td>False</td>\n",
       "      <td>False</td>\n",
       "      <td>en</td>\n",
       "      <td>None</td>\n",
       "      <td>None</td>\n",
       "      <td>[]</td>\n",
       "      <td>[{'url': 'http://t.co/MykDuEgx', 'indices': [61, 81], 'display_url': 'bbc.in/148Grra', 'expanded...</td>\n",
       "      <td>[]</td>\n",
       "      <td>None</td>\n",
       "      <td>0</td>\n",
       "      <td>632569755</td>\n",
       "      <td>Sherry Edwards</td>\n",
       "      <td>US</td>\n",
       "      <td>8</td>\n",
       "      <td>45</td>\n",
       "      <td>2012-07-11T02:01:19+00:00</td>\n",
       "      <td>False</td>\n",
       "    </tr>\n",
       "    <tr>\n",
       "      <th>1</th>\n",
       "      <td>2013-01-28T13:41:57+00:00</td>\n",
       "      <td>295889452121866241</td>\n",
       "      <td>“Vine” อลวน โป๊ระบาด-เฟซบุ๊กสั่งแบน-ทวิตเตอร์เซ็ง http://t.co/mIo9PO6t</td>\n",
       "      <td>&lt;a href=\"http://www.facebook.com/twitter\" rel=\"nofollow\"&gt;Facebook&lt;/a&gt;</td>\n",
       "      <td>False</td>\n",
       "      <td>False</td>\n",
       "      <td>False</td>\n",
       "      <td>th</td>\n",
       "      <td>None</td>\n",
       "      <td>None</td>\n",
       "      <td>[]</td>\n",
       "      <td>[{'url': 'http://t.co/mIo9PO6t', 'indices': [50, 70], 'display_url': 'manager.co.th/Cyberbiz/Vie...</td>\n",
       "      <td>[]</td>\n",
       "      <td>None</td>\n",
       "      <td>0</td>\n",
       "      <td>94285151</td>\n",
       "      <td>Keng KSPstudio</td>\n",
       "      <td>NaN</td>\n",
       "      <td>165</td>\n",
       "      <td>736</td>\n",
       "      <td>2009-12-03T08:18:58+00:00</td>\n",
       "      <td>False</td>\n",
       "    </tr>\n",
       "  </tbody>\n",
       "</table>\n",
       "</div>"
      ],
      "text/plain": [
       "                  created_at            tweet_id                                                                               text  \\\n",
       "0  2013-01-28T13:41:54+00:00  295889441355071488  BBC News - Twitter launches Vine micro-video sharing service http://t.co/MykDuEgx   \n",
       "1  2013-01-28T13:41:57+00:00  295889452121866241             “Vine” อลวน โป๊ระบาด-เฟซบุ๊กสั่งแบน-ทวิตเตอร์เซ็ง http://t.co/mIo9PO6t   \n",
       "\n",
       "                                                                     source favorited retweeted possibly_sensitive lang   geo coordinates hashtags  \\\n",
       "0  <a href=\"http://twitter.com/tweetbutton\" rel=\"nofollow\">Tweet Button</a>     False     False              False   en  None        None       []   \n",
       "1     <a href=\"http://www.facebook.com/twitter\" rel=\"nofollow\">Facebook</a>     False     False              False   th  None        None       []   \n",
       "\n",
       "                                                                                                  urls user_mentions in_reply_to_user_id  retweet_count    user_id       user_name user_location  \\\n",
       "0  [{'url': 'http://t.co/MykDuEgx', 'indices': [61, 81], 'display_url': 'bbc.in/148Grra', 'expanded...            []                None              0  632569755  Sherry Edwards            US   \n",
       "1  [{'url': 'http://t.co/mIo9PO6t', 'indices': [50, 70], 'display_url': 'manager.co.th/Cyberbiz/Vie...            []                None              0   94285151  Keng KSPstudio           NaN   \n",
       "\n",
       "   user_followers_count user_friends_count            user_created_at user_verified  \n",
       "0                     8                 45  2012-07-11T02:01:19+00:00         False  \n",
       "1                   165                736  2009-12-03T08:18:58+00:00         False  "
      ]
     },
     "execution_count": 21,
     "metadata": {},
     "output_type": "execute_result"
    }
   ],
   "source": [
    "rawdf.describe()\n",
    "\n",
    "print('See the top 2 lines:')\n",
    "rawdf.head(2)"
   ]
  },
  {
   "cell_type": "code",
   "execution_count": 24,
   "metadata": {
    "collapsed": false
   },
   "outputs": [
    {
     "name": "stdout",
     "output_type": "stream",
     "text": [
      "Question 1 - Total number of tweets:\n"
     ]
    },
    {
     "data": {
      "text/plain": [
       "2129755"
      ]
     },
     "execution_count": 24,
     "metadata": {},
     "output_type": "execute_result"
    }
   ],
   "source": [
    "print('Question 1 - Total number of tweets?')\n",
    "\n",
    "rawdf.tweet_id.count()"
   ]
  },
  {
   "cell_type": "code",
   "execution_count": 23,
   "metadata": {
    "collapsed": false
   },
   "outputs": [
    {
     "name": "stdout",
     "output_type": "stream",
     "text": [
      "Question 2 - Total number of unique users:\n"
     ]
    },
    {
     "data": {
      "text/plain": [
       "2129755"
      ]
     },
     "execution_count": 23,
     "metadata": {},
     "output_type": "execute_result"
    }
   ],
   "source": [
    "print('Question 2 - Total number of unique users?')\n",
    "\n",
    "rawdf.user_id.count()"
   ]
  },
  {
   "cell_type": "code",
   "execution_count": 35,
   "metadata": {
    "collapsed": false
   },
   "outputs": [
    {
     "name": "stdout",
     "output_type": "stream",
     "text": [
      "Question 4 - How many tweets are geotagged (have latitude and longitude)?\n"
     ]
    },
    {
     "data": {
      "text/html": [
       "<div>\n",
       "<table border=\"1\" class=\"dataframe\">\n",
       "  <thead>\n",
       "    <tr style=\"text-align: right;\">\n",
       "      <th></th>\n",
       "      <th>0</th>\n",
       "    </tr>\n",
       "    <tr>\n",
       "      <th>geo</th>\n",
       "      <th></th>\n",
       "    </tr>\n",
       "  </thead>\n",
       "  <tbody>\n",
       "    <tr>\n",
       "      <th>None</th>\n",
       "      <td>2114183</td>\n",
       "    </tr>\n",
       "    <tr>\n",
       "      <th>{'type': 'Point', 'coordinates': [0.0, 0.0]}</th>\n",
       "      <td>74</td>\n",
       "    </tr>\n",
       "    <tr>\n",
       "      <th>{'type': 'Point', 'coordinates': [34.10162416, -118.32664847]}</th>\n",
       "      <td>64</td>\n",
       "    </tr>\n",
       "    <tr>\n",
       "      <th>{'type': 'Point', 'coordinates': [53.800651, -4.064941]}</th>\n",
       "      <td>38</td>\n",
       "    </tr>\n",
       "    <tr>\n",
       "      <th>{'type': 'Point', 'coordinates': [54.0633, -2.88424]}</th>\n",
       "      <td>32</td>\n",
       "    </tr>\n",
       "  </tbody>\n",
       "</table>\n",
       "</div>"
      ],
      "text/plain": [
       "                                                                      0\n",
       "geo                                                                    \n",
       "None                                                            2114183\n",
       "{'type': 'Point', 'coordinates': [0.0, 0.0]}                         74\n",
       "{'type': 'Point', 'coordinates': [34.10162416, -118.32664847]}       64\n",
       "{'type': 'Point', 'coordinates': [53.800651, -4.064941]}             38\n",
       "{'type': 'Point', 'coordinates': [54.0633, -2.88424]}                32"
      ]
     },
     "execution_count": 35,
     "metadata": {},
     "output_type": "execute_result"
    }
   ],
   "source": [
    "print('Question 4 - How many tweets are geotagged (have latitude and longitude)?')\n",
    "\n",
    "geodf = pd.DataFrame(rawdf.groupby(['geo']).apply(len))\n",
    "geodf.sort(columns=[0], ascending=False).head()"
   ]
  },
  {
   "cell_type": "code",
   "execution_count": 36,
   "metadata": {
    "collapsed": false
   },
   "outputs": [
    {
     "name": "stdout",
     "output_type": "stream",
     "text": [
      "Question 8 - Which is the most popular user_location?\n"
     ]
    },
    {
     "data": {
      "text/html": [
       "<div>\n",
       "<table border=\"1\" class=\"dataframe\">\n",
       "  <thead>\n",
       "    <tr style=\"text-align: right;\">\n",
       "      <th></th>\n",
       "      <th>0</th>\n",
       "    </tr>\n",
       "    <tr>\n",
       "      <th>user_location</th>\n",
       "      <th></th>\n",
       "    </tr>\n",
       "  </thead>\n",
       "  <tbody>\n",
       "    <tr>\n",
       "      <th>London</th>\n",
       "      <td>21250</td>\n",
       "    </tr>\n",
       "    <tr>\n",
       "      <th>New York, NY</th>\n",
       "      <td>12095</td>\n",
       "    </tr>\n",
       "    <tr>\n",
       "      <th>Los Angeles</th>\n",
       "      <td>11237</td>\n",
       "    </tr>\n",
       "    <tr>\n",
       "      <th>New York</th>\n",
       "      <td>10892</td>\n",
       "    </tr>\n",
       "    <tr>\n",
       "      <th>Los Angeles, CA</th>\n",
       "      <td>9456</td>\n",
       "    </tr>\n",
       "  </tbody>\n",
       "</table>\n",
       "</div>"
      ],
      "text/plain": [
       "                     0\n",
       "user_location         \n",
       "London           21250\n",
       "New York, NY     12095\n",
       "Los Angeles      11237\n",
       "New York         10892\n",
       "Los Angeles, CA   9456"
      ]
     },
     "execution_count": 36,
     "metadata": {},
     "output_type": "execute_result"
    }
   ],
   "source": [
    "print('Question 8 - Which is the most popular user_location?')\n",
    "\n",
    "locdf = pd.DataFrame(rawdf.groupby(['user_location']).apply(len))\n",
    "locdf.sort(columns=[0], ascending=False).head()"
   ]
  },
  {
   "cell_type": "code",
   "execution_count": 37,
   "metadata": {
    "collapsed": false
   },
   "outputs": [
    {
     "name": "stdout",
     "output_type": "stream",
     "text": [
      "We can see that the most common user location in our dataset is London with 21250 tweets\n"
     ]
    }
   ],
   "source": [
    "print('We can see that the most common user location in our dataset is London with 21250 tweets')"
   ]
  },
  {
   "cell_type": "code",
   "execution_count": null,
   "metadata": {
    "collapsed": true
   },
   "outputs": [],
   "source": []
  }
 ],
 "metadata": {
  "kernelspec": {
   "display_name": "Python 3",
   "language": "python",
   "name": "python3"
  },
  "language_info": {
   "codemirror_mode": {
    "name": "ipython",
    "version": 3
   },
   "file_extension": ".py",
   "mimetype": "text/x-python",
   "name": "python",
   "nbconvert_exporter": "python",
   "pygments_lexer": "ipython3",
   "version": "3.5.1"
  }
 },
 "nbformat": 4,
 "nbformat_minor": 0
}
