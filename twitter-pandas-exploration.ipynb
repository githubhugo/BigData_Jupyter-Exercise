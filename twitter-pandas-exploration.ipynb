{
 "cells": [
  {
   "cell_type": "code",
   "execution_count": 1,
   "metadata": {
    "collapsed": false
   },
   "outputs": [],
   "source": [
    "import pandas as pd"
   ]
  },
  {
   "cell_type": "code",
   "execution_count": 2,
   "metadata": {
    "collapsed": true
   },
   "outputs": [],
   "source": [
    "import numpy as np"
   ]
  },
  {
   "cell_type": "code",
   "execution_count": 3,
   "metadata": {
    "collapsed": true
   },
   "outputs": [],
   "source": [
    "import warnings\n",
    "warnings.filterwarnings(\"ignore\")"
   ]
  },
  {
   "cell_type": "code",
   "execution_count": 4,
   "metadata": {
    "collapsed": false
   },
   "outputs": [],
   "source": [
    "pd.set_option('display.max_columns', 30)\n",
    "pd.set_option('display.width', 200)\n",
    "pd.set_option('display.max_colwidth', 100)"
   ]
  },
  {
   "cell_type": "code",
   "execution_count": 5,
   "metadata": {
    "collapsed": false
   },
   "outputs": [],
   "source": [
    "data_path = 'C:/Users/Hugo/Documents/BTS - MDSD/Big Data/data/DF-Data_twitter_vine/twitter-vine-clean.tsv.bz2'\n",
    "\n",
    "rawdf = pd.read_csv('C:/Users/Hugo/Documents/BTS - MDSD/Big Data/data/DF-Data_twitter_vine/twitter-vine-clean.tsv.bz2', \n",
    "                    sep='\\t', compression='bz2')"
   ]
  },
  {
   "cell_type": "code",
   "execution_count": 6,
   "metadata": {
    "collapsed": false
   },
   "outputs": [
    {
     "name": "stdout",
     "output_type": "stream",
     "text": [
      "Number of rows and columns:\n",
      "(2129755, 22)\n"
     ]
    }
   ],
   "source": [
    "print('Number of rows and columns:')\n",
    "print(rawdf.shape)"
   ]
  },
  {
   "cell_type": "code",
   "execution_count": 7,
   "metadata": {
    "collapsed": false,
    "scrolled": true
   },
   "outputs": [
    {
     "name": "stdout",
     "output_type": "stream",
     "text": [
      "See the top 10 lines:\n"
     ]
    },
    {
     "data": {
      "text/html": [
       "<div>\n",
       "<table border=\"1\" class=\"dataframe\">\n",
       "  <thead>\n",
       "    <tr style=\"text-align: right;\">\n",
       "      <th></th>\n",
       "      <th>created_at</th>\n",
       "      <th>tweet_id</th>\n",
       "      <th>text</th>\n",
       "      <th>source</th>\n",
       "      <th>favorited</th>\n",
       "      <th>retweeted</th>\n",
       "      <th>possibly_sensitive</th>\n",
       "      <th>lang</th>\n",
       "      <th>geo</th>\n",
       "      <th>coordinates</th>\n",
       "      <th>hashtags</th>\n",
       "      <th>urls</th>\n",
       "      <th>user_mentions</th>\n",
       "      <th>in_reply_to_user_id</th>\n",
       "      <th>retweet_count</th>\n",
       "      <th>user_id</th>\n",
       "      <th>user_name</th>\n",
       "      <th>user_location</th>\n",
       "      <th>user_followers_count</th>\n",
       "      <th>user_friends_count</th>\n",
       "      <th>user_created_at</th>\n",
       "      <th>user_verified</th>\n",
       "    </tr>\n",
       "  </thead>\n",
       "  <tbody>\n",
       "    <tr>\n",
       "      <th>0</th>\n",
       "      <td>2013-01-28T13:41:54+00:00</td>\n",
       "      <td>295889441355071488</td>\n",
       "      <td>BBC News - Twitter launches Vine micro-video sharing service http://t.co/MykDuEgx</td>\n",
       "      <td>&lt;a href=\"http://twitter.com/tweetbutton\" rel=\"nofollow\"&gt;Tweet Button&lt;/a&gt;</td>\n",
       "      <td>False</td>\n",
       "      <td>False</td>\n",
       "      <td>False</td>\n",
       "      <td>en</td>\n",
       "      <td>None</td>\n",
       "      <td>None</td>\n",
       "      <td>[]</td>\n",
       "      <td>[{'url': 'http://t.co/MykDuEgx', 'indices': [61, 81], 'display_url': 'bbc.in/148Grra', 'expanded...</td>\n",
       "      <td>[]</td>\n",
       "      <td>None</td>\n",
       "      <td>0</td>\n",
       "      <td>632569755</td>\n",
       "      <td>Sherry Edwards</td>\n",
       "      <td>US</td>\n",
       "      <td>8</td>\n",
       "      <td>45</td>\n",
       "      <td>2012-07-11T02:01:19+00:00</td>\n",
       "      <td>False</td>\n",
       "    </tr>\n",
       "    <tr>\n",
       "      <th>1</th>\n",
       "      <td>2013-01-28T13:41:57+00:00</td>\n",
       "      <td>295889452121866241</td>\n",
       "      <td>“Vine” อลวน โป๊ระบาด-เฟซบุ๊กสั่งแบน-ทวิตเตอร์เซ็ง http://t.co/mIo9PO6t</td>\n",
       "      <td>&lt;a href=\"http://www.facebook.com/twitter\" rel=\"nofollow\"&gt;Facebook&lt;/a&gt;</td>\n",
       "      <td>False</td>\n",
       "      <td>False</td>\n",
       "      <td>False</td>\n",
       "      <td>th</td>\n",
       "      <td>None</td>\n",
       "      <td>None</td>\n",
       "      <td>[]</td>\n",
       "      <td>[{'url': 'http://t.co/mIo9PO6t', 'indices': [50, 70], 'display_url': 'manager.co.th/Cyberbiz/Vie...</td>\n",
       "      <td>[]</td>\n",
       "      <td>None</td>\n",
       "      <td>0</td>\n",
       "      <td>94285151</td>\n",
       "      <td>Keng KSPstudio</td>\n",
       "      <td>NaN</td>\n",
       "      <td>165</td>\n",
       "      <td>736</td>\n",
       "      <td>2009-12-03T08:18:58+00:00</td>\n",
       "      <td>False</td>\n",
       "    </tr>\n",
       "    <tr>\n",
       "      <th>2</th>\n",
       "      <td>2013-01-28T13:41:58+00:00</td>\n",
       "      <td>295889454705565696</td>\n",
       "      <td>Really excited for the explosion of 'What does Vine mean for _______?' pieces, which will dodge ...</td>\n",
       "      <td>web</td>\n",
       "      <td>False</td>\n",
       "      <td>False</td>\n",
       "      <td>NaN</td>\n",
       "      <td>en</td>\n",
       "      <td>None</td>\n",
       "      <td>None</td>\n",
       "      <td>[]</td>\n",
       "      <td>[]</td>\n",
       "      <td>[]</td>\n",
       "      <td>None</td>\n",
       "      <td>0</td>\n",
       "      <td>21334099</td>\n",
       "      <td>Ryan Farkas</td>\n",
       "      <td>Toronto</td>\n",
       "      <td>367</td>\n",
       "      <td>841</td>\n",
       "      <td>2009-02-19T20:13:33+00:00</td>\n",
       "      <td>False</td>\n",
       "    </tr>\n",
       "    <tr>\n",
       "      <th>3</th>\n",
       "      <td>2013-01-28T13:41:58+00:00</td>\n",
       "      <td>295889458639802368</td>\n",
       "      <td>It's fun to think about the potential that exists between #vine and those who have DIY #Etsy bus...</td>\n",
       "      <td>web</td>\n",
       "      <td>False</td>\n",
       "      <td>False</td>\n",
       "      <td>NaN</td>\n",
       "      <td>en</td>\n",
       "      <td>None</td>\n",
       "      <td>None</td>\n",
       "      <td>[{'indices': [58, 63], 'text': 'vine'}, {'indices': [87, 92], 'text': 'Etsy'}]</td>\n",
       "      <td>[]</td>\n",
       "      <td>[{'id': 18288876, 'id_str': '18288876', 'screen_name': 'cary_weston', 'name': 'Cary Weston', 'in...</td>\n",
       "      <td>None</td>\n",
       "      <td>0</td>\n",
       "      <td>317935518</td>\n",
       "      <td>Pat Lemieux</td>\n",
       "      <td>Bangor Maine</td>\n",
       "      <td>354</td>\n",
       "      <td>383</td>\n",
       "      <td>2011-06-15T18:14:44+00:00</td>\n",
       "      <td>False</td>\n",
       "    </tr>\n",
       "    <tr>\n",
       "      <th>4</th>\n",
       "      <td>2013-01-28T13:42:01+00:00</td>\n",
       "      <td>295889470333517824</td>\n",
       "      <td>Just Vined Lets You See the Last 20 Videos on Vine http://t.co/5tqQtM92</td>\n",
       "      <td>web</td>\n",
       "      <td>False</td>\n",
       "      <td>False</td>\n",
       "      <td>False</td>\n",
       "      <td>en</td>\n",
       "      <td>None</td>\n",
       "      <td>None</td>\n",
       "      <td>[]</td>\n",
       "      <td>[{'url': 'http://t.co/5tqQtM92', 'indices': [51, 71], 'display_url': 'bit.ly/Vrvb87', 'expanded_...</td>\n",
       "      <td>[]</td>\n",
       "      <td>None</td>\n",
       "      <td>0</td>\n",
       "      <td>736658053</td>\n",
       "      <td>adelineuddbbilo</td>\n",
       "      <td>Tampa</td>\n",
       "      <td>43</td>\n",
       "      <td>99</td>\n",
       "      <td>2012-08-04T12:33:45+00:00</td>\n",
       "      <td>False</td>\n",
       "    </tr>\n",
       "    <tr>\n",
       "      <th>5</th>\n",
       "      <td>2013-01-28T13:42:01+00:00</td>\n",
       "      <td>295889470836850688</td>\n",
       "      <td>Анимированные GIF-ки и короткие видео в новом сервисе Twitter Vine</td>\n",
       "      <td>web</td>\n",
       "      <td>False</td>\n",
       "      <td>False</td>\n",
       "      <td>NaN</td>\n",
       "      <td>ru</td>\n",
       "      <td>None</td>\n",
       "      <td>None</td>\n",
       "      <td>[]</td>\n",
       "      <td>[]</td>\n",
       "      <td>[]</td>\n",
       "      <td>None</td>\n",
       "      <td>0</td>\n",
       "      <td>599147011</td>\n",
       "      <td>Андрей Дорин</td>\n",
       "      <td>NaN</td>\n",
       "      <td>976</td>\n",
       "      <td>854</td>\n",
       "      <td>2012-06-04T10:57:47+00:00</td>\n",
       "      <td>False</td>\n",
       "    </tr>\n",
       "    <tr>\n",
       "      <th>6</th>\n",
       "      <td>2013-01-28T13:42:03+00:00</td>\n",
       "      <td>295889475635134464</td>\n",
       "      <td>Epoke la vine tendu pa attann moun vine tann bras a yo, pass life la tepu sa u baw fèy rèprany o...</td>\n",
       "      <td>web</td>\n",
       "      <td>False</td>\n",
       "      <td>False</td>\n",
       "      <td>NaN</td>\n",
       "      <td>fr</td>\n",
       "      <td>None</td>\n",
       "      <td>None</td>\n",
       "      <td>[]</td>\n",
       "      <td>[]</td>\n",
       "      <td>[]</td>\n",
       "      <td>None</td>\n",
       "      <td>0</td>\n",
       "      <td>360993125</td>\n",
       "      <td>Aby Merah 187</td>\n",
       "      <td>NaN</td>\n",
       "      <td>49</td>\n",
       "      <td>95</td>\n",
       "      <td>2011-08-24T02:32:34+00:00</td>\n",
       "      <td>False</td>\n",
       "    </tr>\n",
       "    <tr>\n",
       "      <th>7</th>\n",
       "      <td>2013-01-28T13:42:03+00:00</td>\n",
       "      <td>295889478600495104</td>\n",
       "      <td>Vine a perder mi tiempo, sin comentarios.</td>\n",
       "      <td>&lt;a href=\"http://twitter.com/download/android\" rel=\"nofollow\"&gt;Twitter for Android&lt;/a&gt;</td>\n",
       "      <td>False</td>\n",
       "      <td>False</td>\n",
       "      <td>NaN</td>\n",
       "      <td>es</td>\n",
       "      <td>None</td>\n",
       "      <td>None</td>\n",
       "      <td>[]</td>\n",
       "      <td>[]</td>\n",
       "      <td>[]</td>\n",
       "      <td>None</td>\n",
       "      <td>0</td>\n",
       "      <td>83375508</td>\n",
       "      <td>Soleny.</td>\n",
       "      <td>Livin' in the couch.</td>\n",
       "      <td>468</td>\n",
       "      <td>295</td>\n",
       "      <td>2009-10-18T14:40:20+00:00</td>\n",
       "      <td>False</td>\n",
       "    </tr>\n",
       "    <tr>\n",
       "      <th>8</th>\n",
       "      <td>2013-01-28T13:42:03+00:00</td>\n",
       "      <td>295889478831198208</td>\n",
       "      <td>http://t.co/G5vwi7u3 http://t.co/Sx2tn2wV</td>\n",
       "      <td>&lt;a href=\"http://www.facebook.com/twitter\" rel=\"nofollow\"&gt;Facebook&lt;/a&gt;</td>\n",
       "      <td>False</td>\n",
       "      <td>False</td>\n",
       "      <td>False</td>\n",
       "      <td>und</td>\n",
       "      <td>None</td>\n",
       "      <td>None</td>\n",
       "      <td>[]</td>\n",
       "      <td>[{'url': 'http://t.co/G5vwi7u3', 'indices': [0, 20], 'display_url': 'mashable.com/2013/01/24/twi...</td>\n",
       "      <td>[]</td>\n",
       "      <td>None</td>\n",
       "      <td>0</td>\n",
       "      <td>249921061</td>\n",
       "      <td>MI.COM.CO</td>\n",
       "      <td>Colombia</td>\n",
       "      <td>1774</td>\n",
       "      <td>1958</td>\n",
       "      <td>2011-02-10T01:49:43+00:00</td>\n",
       "      <td>False</td>\n",
       "    </tr>\n",
       "    <tr>\n",
       "      <th>9</th>\n",
       "      <td>2013-01-28T13:42:04+00:00</td>\n",
       "      <td>295889481045782528</td>\n",
       "      <td>Brands Are Already Experimenting With Twitter’s Vine http://t.co/kd1lGfeY via @comunitee</td>\n",
       "      <td>&lt;a href=\"http://www.comunitee.com/\" rel=\"nofollow\"&gt;Comunitee&lt;/a&gt;</td>\n",
       "      <td>False</td>\n",
       "      <td>False</td>\n",
       "      <td>False</td>\n",
       "      <td>en</td>\n",
       "      <td>None</td>\n",
       "      <td>None</td>\n",
       "      <td>[]</td>\n",
       "      <td>[{'url': 'http://t.co/kd1lGfeY', 'indices': [53, 73], 'display_url': 'cmnt.co/latest-news/te…', ...</td>\n",
       "      <td>[{'id': 252177074, 'id_str': '252177074', 'screen_name': 'comunitee', 'name': 'Comunitee.com', '...</td>\n",
       "      <td>None</td>\n",
       "      <td>0</td>\n",
       "      <td>404272488</td>\n",
       "      <td>Don Daszkowski</td>\n",
       "      <td>NaN</td>\n",
       "      <td>118</td>\n",
       "      <td>168</td>\n",
       "      <td>2011-11-03T17:48:55+00:00</td>\n",
       "      <td>False</td>\n",
       "    </tr>\n",
       "  </tbody>\n",
       "</table>\n",
       "</div>"
      ],
      "text/plain": [
       "                  created_at            tweet_id                                                                                                 text  \\\n",
       "0  2013-01-28T13:41:54+00:00  295889441355071488                    BBC News - Twitter launches Vine micro-video sharing service http://t.co/MykDuEgx   \n",
       "1  2013-01-28T13:41:57+00:00  295889452121866241                               “Vine” อลวน โป๊ระบาด-เฟซบุ๊กสั่งแบน-ทวิตเตอร์เซ็ง http://t.co/mIo9PO6t   \n",
       "2  2013-01-28T13:41:58+00:00  295889454705565696  Really excited for the explosion of 'What does Vine mean for _______?' pieces, which will dodge ...   \n",
       "3  2013-01-28T13:41:58+00:00  295889458639802368  It's fun to think about the potential that exists between #vine and those who have DIY #Etsy bus...   \n",
       "4  2013-01-28T13:42:01+00:00  295889470333517824                              Just Vined Lets You See the Last 20 Videos on Vine http://t.co/5tqQtM92   \n",
       "5  2013-01-28T13:42:01+00:00  295889470836850688                                   Анимированные GIF-ки и короткие видео в новом сервисе Twitter Vine   \n",
       "6  2013-01-28T13:42:03+00:00  295889475635134464  Epoke la vine tendu pa attann moun vine tann bras a yo, pass life la tepu sa u baw fèy rèprany o...   \n",
       "7  2013-01-28T13:42:03+00:00  295889478600495104                                                            Vine a perder mi tiempo, sin comentarios.   \n",
       "8  2013-01-28T13:42:03+00:00  295889478831198208                                                            http://t.co/G5vwi7u3 http://t.co/Sx2tn2wV   \n",
       "9  2013-01-28T13:42:04+00:00  295889481045782528             Brands Are Already Experimenting With Twitter’s Vine http://t.co/kd1lGfeY via @comunitee   \n",
       "\n",
       "                                                                                 source favorited retweeted possibly_sensitive lang   geo coordinates  \\\n",
       "0              <a href=\"http://twitter.com/tweetbutton\" rel=\"nofollow\">Tweet Button</a>     False     False              False   en  None        None   \n",
       "1                 <a href=\"http://www.facebook.com/twitter\" rel=\"nofollow\">Facebook</a>     False     False              False   th  None        None   \n",
       "2                                                                                   web     False     False                NaN   en  None        None   \n",
       "3                                                                                   web     False     False                NaN   en  None        None   \n",
       "4                                                                                   web     False     False              False   en  None        None   \n",
       "5                                                                                   web     False     False                NaN   ru  None        None   \n",
       "6                                                                                   web     False     False                NaN   fr  None        None   \n",
       "7  <a href=\"http://twitter.com/download/android\" rel=\"nofollow\">Twitter for Android</a>     False     False                NaN   es  None        None   \n",
       "8                 <a href=\"http://www.facebook.com/twitter\" rel=\"nofollow\">Facebook</a>     False     False              False  und  None        None   \n",
       "9                      <a href=\"http://www.comunitee.com/\" rel=\"nofollow\">Comunitee</a>     False     False              False   en  None        None   \n",
       "\n",
       "                                                                         hashtags                                                                                                 urls  \\\n",
       "0                                                                              []  [{'url': 'http://t.co/MykDuEgx', 'indices': [61, 81], 'display_url': 'bbc.in/148Grra', 'expanded...   \n",
       "1                                                                              []  [{'url': 'http://t.co/mIo9PO6t', 'indices': [50, 70], 'display_url': 'manager.co.th/Cyberbiz/Vie...   \n",
       "2                                                                              []                                                                                                   []   \n",
       "3  [{'indices': [58, 63], 'text': 'vine'}, {'indices': [87, 92], 'text': 'Etsy'}]                                                                                                   []   \n",
       "4                                                                              []  [{'url': 'http://t.co/5tqQtM92', 'indices': [51, 71], 'display_url': 'bit.ly/Vrvb87', 'expanded_...   \n",
       "5                                                                              []                                                                                                   []   \n",
       "6                                                                              []                                                                                                   []   \n",
       "7                                                                              []                                                                                                   []   \n",
       "8                                                                              []  [{'url': 'http://t.co/G5vwi7u3', 'indices': [0, 20], 'display_url': 'mashable.com/2013/01/24/twi...   \n",
       "9                                                                              []  [{'url': 'http://t.co/kd1lGfeY', 'indices': [53, 73], 'display_url': 'cmnt.co/latest-news/te…', ...   \n",
       "\n",
       "                                                                                         user_mentions in_reply_to_user_id  retweet_count    user_id        user_name         user_location  \\\n",
       "0                                                                                                   []                None              0  632569755   Sherry Edwards                    US   \n",
       "1                                                                                                   []                None              0   94285151   Keng KSPstudio                   NaN   \n",
       "2                                                                                                   []                None              0   21334099      Ryan Farkas               Toronto   \n",
       "3  [{'id': 18288876, 'id_str': '18288876', 'screen_name': 'cary_weston', 'name': 'Cary Weston', 'in...                None              0  317935518      Pat Lemieux          Bangor Maine   \n",
       "4                                                                                                   []                None              0  736658053  adelineuddbbilo                 Tampa   \n",
       "5                                                                                                   []                None              0  599147011     Андрей Дорин                   NaN   \n",
       "6                                                                                                   []                None              0  360993125    Aby Merah 187                   NaN   \n",
       "7                                                                                                   []                None              0   83375508          Soleny.  Livin' in the couch.   \n",
       "8                                                                                                   []                None              0  249921061        MI.COM.CO              Colombia   \n",
       "9  [{'id': 252177074, 'id_str': '252177074', 'screen_name': 'comunitee', 'name': 'Comunitee.com', '...                None              0  404272488   Don Daszkowski                   NaN   \n",
       "\n",
       "   user_followers_count user_friends_count            user_created_at user_verified  \n",
       "0                     8                 45  2012-07-11T02:01:19+00:00         False  \n",
       "1                   165                736  2009-12-03T08:18:58+00:00         False  \n",
       "2                   367                841  2009-02-19T20:13:33+00:00         False  \n",
       "3                   354                383  2011-06-15T18:14:44+00:00         False  \n",
       "4                    43                 99  2012-08-04T12:33:45+00:00         False  \n",
       "5                   976                854  2012-06-04T10:57:47+00:00         False  \n",
       "6                    49                 95  2011-08-24T02:32:34+00:00         False  \n",
       "7                   468                295  2009-10-18T14:40:20+00:00         False  \n",
       "8                  1774               1958  2011-02-10T01:49:43+00:00         False  \n",
       "9                   118                168  2011-11-03T17:48:55+00:00         False  "
      ]
     },
     "execution_count": 7,
     "metadata": {},
     "output_type": "execute_result"
    }
   ],
   "source": [
    "print('See the top 10 lines:')\n",
    "rawdf.head(10)"
   ]
  },
  {
   "cell_type": "markdown",
   "metadata": {},
   "source": [
    "### Question 1 - Total number of tweets?"
   ]
  },
  {
   "cell_type": "code",
   "execution_count": 8,
   "metadata": {
    "collapsed": false
   },
   "outputs": [
    {
     "name": "stdout",
     "output_type": "stream",
     "text": [
      "Total number of tweets:\n"
     ]
    },
    {
     "data": {
      "text/plain": [
       "2129755"
      ]
     },
     "execution_count": 8,
     "metadata": {},
     "output_type": "execute_result"
    }
   ],
   "source": [
    "print('Total number of tweets:')\n",
    "\n",
    "rawdf.tweet_id.count()"
   ]
  },
  {
   "cell_type": "markdown",
   "metadata": {
    "collapsed": true
   },
   "source": [
    "### Question 2 - Total number of unique users?"
   ]
  },
  {
   "cell_type": "code",
   "execution_count": 9,
   "metadata": {
    "collapsed": false
   },
   "outputs": [
    {
     "name": "stdout",
     "output_type": "stream",
     "text": [
      "Total number of unique users:\n"
     ]
    },
    {
     "data": {
      "text/plain": [
       "918911"
      ]
     },
     "execution_count": 9,
     "metadata": {},
     "output_type": "execute_result"
    }
   ],
   "source": [
    "print('Total number of unique users:')\n",
    "\n",
    "rawdf.user_id.nunique()"
   ]
  },
  {
   "cell_type": "markdown",
   "metadata": {},
   "source": [
    "### Question 3 - How many tweets contains more than one URL?"
   ]
  },
  {
   "cell_type": "code",
   "execution_count": 10,
   "metadata": {
    "collapsed": false
   },
   "outputs": [
    {
     "name": "stdout",
     "output_type": "stream",
     "text": [
      "Number of tweets containing at least one URL:\n"
     ]
    },
    {
     "data": {
      "text/plain": [
       "1549768"
      ]
     },
     "execution_count": 10,
     "metadata": {},
     "output_type": "execute_result"
    }
   ],
   "source": [
    "print('Number of tweets containing at least one URL:')\n",
    "\n",
    "rawdf.text.str.contains('http').sum()"
   ]
  },
  {
   "cell_type": "code",
   "execution_count": 11,
   "metadata": {
    "collapsed": false
   },
   "outputs": [
    {
     "name": "stdout",
     "output_type": "stream",
     "text": [
      "How many tweets contains more than one URL?\n"
     ]
    },
    {
     "data": {
      "text/html": [
       "<div>\n",
       "<table border=\"1\" class=\"dataframe\">\n",
       "  <thead>\n",
       "    <tr style=\"text-align: right;\">\n",
       "      <th></th>\n",
       "      <th>body</th>\n",
       "      <th>http1</th>\n",
       "      <th>http2</th>\n",
       "    </tr>\n",
       "  </thead>\n",
       "  <tbody>\n",
       "    <tr>\n",
       "      <th>0</th>\n",
       "      <td>BBC News - Twitter launches Vine micro-video sharing service</td>\n",
       "      <td>://t.co/MykDuEgx</td>\n",
       "      <td>None</td>\n",
       "    </tr>\n",
       "    <tr>\n",
       "      <th>1</th>\n",
       "      <td>“Vine” อลวน โป๊ระบาด-เฟซบุ๊กสั่งแบน-ทวิตเตอร์เซ็ง</td>\n",
       "      <td>://t.co/mIo9PO6t</td>\n",
       "      <td>None</td>\n",
       "    </tr>\n",
       "    <tr>\n",
       "      <th>2</th>\n",
       "      <td>Really excited for the explosion of 'What does Vine mean for _______?' pieces, which will dodge ...</td>\n",
       "      <td>None</td>\n",
       "      <td>None</td>\n",
       "    </tr>\n",
       "    <tr>\n",
       "      <th>3</th>\n",
       "      <td>It's fun to think about the potential that exists between #vine and those who have DIY #Etsy bus...</td>\n",
       "      <td>None</td>\n",
       "      <td>None</td>\n",
       "    </tr>\n",
       "    <tr>\n",
       "      <th>4</th>\n",
       "      <td>Just Vined Lets You See the Last 20 Videos on Vine</td>\n",
       "      <td>://t.co/5tqQtM92</td>\n",
       "      <td>None</td>\n",
       "    </tr>\n",
       "  </tbody>\n",
       "</table>\n",
       "</div>"
      ],
      "text/plain": [
       "                                                                                                  body             http1 http2\n",
       "0                                        BBC News - Twitter launches Vine micro-video sharing service   ://t.co/MykDuEgx  None\n",
       "1                                                   “Vine” อลวน โป๊ระบาด-เฟซบุ๊กสั่งแบน-ทวิตเตอร์เซ็ง   ://t.co/mIo9PO6t  None\n",
       "2  Really excited for the explosion of 'What does Vine mean for _______?' pieces, which will dodge ...              None  None\n",
       "3  It's fun to think about the potential that exists between #vine and those who have DIY #Etsy bus...              None  None\n",
       "4                                                  Just Vined Lets You See the Last 20 Videos on Vine   ://t.co/5tqQtM92  None"
      ]
     },
     "execution_count": 11,
     "metadata": {},
     "output_type": "execute_result"
    }
   ],
   "source": [
    "print('How many tweets contains more than one URL?')\n",
    "\n",
    "urldf = pd.DataFrame(rawdf.text.str.split('http',2).tolist(),\n",
    "                     columns = ['body','http1','http2'])\n",
    "\n",
    "urldf.head()"
   ]
  },
  {
   "cell_type": "code",
   "execution_count": 12,
   "metadata": {
    "collapsed": false
   },
   "outputs": [
    {
     "name": "stdout",
     "output_type": "stream",
     "text": [
      "Total number of None values in http2 column:\n"
     ]
    },
    {
     "data": {
      "text/plain": [
       "2109856"
      ]
     },
     "execution_count": 12,
     "metadata": {},
     "output_type": "execute_result"
    }
   ],
   "source": [
    "print('Total number of None values in http2 column:')\n",
    "\n",
    "urldf.http2.isnull().sum() #get this number and take it away from the total number of tweets (2129755)"
   ]
  },
  {
   "cell_type": "markdown",
   "metadata": {
    "collapsed": false
   },
   "source": [
    "We can see that **2109856** tweets don't contain a second URL in their text.  If we take this number away from the total number of tweets, 2129755, we can see tht **19,899** tweets contain more than 1 URL."
   ]
  },
  {
   "cell_type": "markdown",
   "metadata": {},
   "source": [
    "A more elegant way to solve this question was as follows:"
   ]
  },
  {
   "cell_type": "code",
   "execution_count": 13,
   "metadata": {
    "collapsed": false
   },
   "outputs": [
    {
     "data": {
      "text/plain": [
       "19899"
      ]
     },
     "execution_count": 13,
     "metadata": {},
     "output_type": "execute_result"
    }
   ],
   "source": [
    "sum(rawdf.text.str.count('http')>1)"
   ]
  },
  {
   "cell_type": "markdown",
   "metadata": {},
   "source": [
    "### Question 4 - How many tweets are geotagged (have latitude and longitude)?"
   ]
  },
  {
   "cell_type": "code",
   "execution_count": 14,
   "metadata": {
    "collapsed": false
   },
   "outputs": [
    {
     "name": "stdout",
     "output_type": "stream",
     "text": [
      "Total number of tweets:\n"
     ]
    },
    {
     "data": {
      "text/plain": [
       "2129755"
      ]
     },
     "execution_count": 14,
     "metadata": {},
     "output_type": "execute_result"
    }
   ],
   "source": [
    "print('Total number of tweets:')\n",
    "\n",
    "rawdf.tweet_id.count()"
   ]
  },
  {
   "cell_type": "code",
   "execution_count": 15,
   "metadata": {
    "collapsed": false,
    "scrolled": true
   },
   "outputs": [
    {
     "name": "stdout",
     "output_type": "stream",
     "text": [
      "Tweets grouped by geotag:\n"
     ]
    },
    {
     "data": {
      "text/html": [
       "<div>\n",
       "<table border=\"1\" class=\"dataframe\">\n",
       "  <thead>\n",
       "    <tr style=\"text-align: right;\">\n",
       "      <th></th>\n",
       "      <th>0</th>\n",
       "    </tr>\n",
       "    <tr>\n",
       "      <th>geo</th>\n",
       "      <th></th>\n",
       "    </tr>\n",
       "  </thead>\n",
       "  <tbody>\n",
       "    <tr>\n",
       "      <th>None</th>\n",
       "      <td>2114183</td>\n",
       "    </tr>\n",
       "    <tr>\n",
       "      <th>{'type': 'Point', 'coordinates': [0.0, 0.0]}</th>\n",
       "      <td>74</td>\n",
       "    </tr>\n",
       "    <tr>\n",
       "      <th>{'type': 'Point', 'coordinates': [34.10162416, -118.32664847]}</th>\n",
       "      <td>64</td>\n",
       "    </tr>\n",
       "    <tr>\n",
       "      <th>{'type': 'Point', 'coordinates': [53.800651, -4.064941]}</th>\n",
       "      <td>38</td>\n",
       "    </tr>\n",
       "    <tr>\n",
       "      <th>{'type': 'Point', 'coordinates': [54.0633, -2.88424]}</th>\n",
       "      <td>32</td>\n",
       "    </tr>\n",
       "  </tbody>\n",
       "</table>\n",
       "</div>"
      ],
      "text/plain": [
       "                                                                      0\n",
       "geo                                                                    \n",
       "None                                                            2114183\n",
       "{'type': 'Point', 'coordinates': [0.0, 0.0]}                         74\n",
       "{'type': 'Point', 'coordinates': [34.10162416, -118.32664847]}       64\n",
       "{'type': 'Point', 'coordinates': [53.800651, -4.064941]}             38\n",
       "{'type': 'Point', 'coordinates': [54.0633, -2.88424]}                32"
      ]
     },
     "execution_count": 15,
     "metadata": {},
     "output_type": "execute_result"
    }
   ],
   "source": [
    "print('Tweets grouped by geotag:')\n",
    "\n",
    "geodf = pd.DataFrame(rawdf.groupby(['geo']).apply(len))\n",
    "geodf.sort(columns=[0], ascending=False).head(5)"
   ]
  },
  {
   "cell_type": "markdown",
   "metadata": {},
   "source": [
    "We can see that of 2129755 tweets, 2114183 have no geotag.  This leaves **15,572** tweets that are geotagged with both  both a longitude and latitude specified for their coordinates. \n",
    "*74* tweets are specified as having coordinates at [0.0, 0.0]."
   ]
  },
  {
   "cell_type": "markdown",
   "metadata": {},
   "source": [
    "### Question 5 - How many tweets are original (e.g., not retweets)?"
   ]
  },
  {
   "cell_type": "code",
   "execution_count": 16,
   "metadata": {
    "collapsed": false
   },
   "outputs": [
    {
     "data": {
      "text/html": [
       "<div>\n",
       "<table border=\"1\" class=\"dataframe\">\n",
       "  <thead>\n",
       "    <tr style=\"text-align: right;\">\n",
       "      <th></th>\n",
       "      <th>0</th>\n",
       "    </tr>\n",
       "    <tr>\n",
       "      <th>retweeted</th>\n",
       "      <th></th>\n",
       "    </tr>\n",
       "  </thead>\n",
       "  <tbody>\n",
       "    <tr>\n",
       "      <th>False</th>\n",
       "      <td>2129597</td>\n",
       "    </tr>\n",
       "    <tr>\n",
       "      <th>True</th>\n",
       "      <td>5</td>\n",
       "    </tr>\n",
       "  </tbody>\n",
       "</table>\n",
       "</div>"
      ],
      "text/plain": [
       "                 0\n",
       "retweeted         \n",
       "False      2129597\n",
       "True             5"
      ]
     },
     "execution_count": 16,
     "metadata": {},
     "output_type": "execute_result"
    }
   ],
   "source": [
    "retweetdf = pd.DataFrame(rawdf.groupby(['retweeted']).apply(len))\n",
    "retweetdf.sort(columns=[0], ascending=False)"
   ]
  },
  {
   "cell_type": "markdown",
   "metadata": {},
   "source": [
    "We can see that just **5** of the tweets are retweets.\n",
    "**2129597** tweets are original."
   ]
  },
  {
   "cell_type": "markdown",
   "metadata": {},
   "source": [
    "### Question 6 - How many tweets for each day? In average?"
   ]
  },
  {
   "cell_type": "code",
   "execution_count": 15,
   "metadata": {
    "collapsed": false
   },
   "outputs": [
    {
     "name": "stdout",
     "output_type": "stream",
     "text": [
      "Number of tweets on each day:\n"
     ]
    },
    {
     "data": {
      "text/html": [
       "<div>\n",
       "<table border=\"1\" class=\"dataframe\">\n",
       "  <thead>\n",
       "    <tr style=\"text-align: right;\">\n",
       "      <th></th>\n",
       "      <th>0</th>\n",
       "    </tr>\n",
       "    <tr>\n",
       "      <th>day</th>\n",
       "      <th></th>\n",
       "    </tr>\n",
       "  </thead>\n",
       "  <tbody>\n",
       "    <tr>\n",
       "      <th>2013-01-28</th>\n",
       "      <td>69123</td>\n",
       "    </tr>\n",
       "    <tr>\n",
       "      <th>2013-01-29</th>\n",
       "      <td>98501</td>\n",
       "    </tr>\n",
       "    <tr>\n",
       "      <th>2013-01-30</th>\n",
       "      <td>75435</td>\n",
       "    </tr>\n",
       "    <tr>\n",
       "      <th>2013-01-31</th>\n",
       "      <td>71642</td>\n",
       "    </tr>\n",
       "    <tr>\n",
       "      <th>2013-02-01</th>\n",
       "      <td>75419</td>\n",
       "    </tr>\n",
       "    <tr>\n",
       "      <th>2013-02-02</th>\n",
       "      <td>72197</td>\n",
       "    </tr>\n",
       "    <tr>\n",
       "      <th>2013-02-03</th>\n",
       "      <td>46374</td>\n",
       "    </tr>\n",
       "    <tr>\n",
       "      <th>2013-02-04</th>\n",
       "      <td>34824</td>\n",
       "    </tr>\n",
       "    <tr>\n",
       "      <th>2013-02-05</th>\n",
       "      <td>62784</td>\n",
       "    </tr>\n",
       "    <tr>\n",
       "      <th>2013-02-06</th>\n",
       "      <td>79157</td>\n",
       "    </tr>\n",
       "    <tr>\n",
       "      <th>2013-02-07</th>\n",
       "      <td>72738</td>\n",
       "    </tr>\n",
       "    <tr>\n",
       "      <th>2013-02-08</th>\n",
       "      <td>80017</td>\n",
       "    </tr>\n",
       "    <tr>\n",
       "      <th>2013-02-09</th>\n",
       "      <td>87639</td>\n",
       "    </tr>\n",
       "    <tr>\n",
       "      <th>2013-02-10</th>\n",
       "      <td>79522</td>\n",
       "    </tr>\n",
       "    <tr>\n",
       "      <th>2013-02-11</th>\n",
       "      <td>64506</td>\n",
       "    </tr>\n",
       "    <tr>\n",
       "      <th>2013-02-12</th>\n",
       "      <td>69265</td>\n",
       "    </tr>\n",
       "    <tr>\n",
       "      <th>2013-02-13</th>\n",
       "      <td>75196</td>\n",
       "    </tr>\n",
       "    <tr>\n",
       "      <th>2013-02-14</th>\n",
       "      <td>69675</td>\n",
       "    </tr>\n",
       "    <tr>\n",
       "      <th>2013-02-15</th>\n",
       "      <td>72621</td>\n",
       "    </tr>\n",
       "    <tr>\n",
       "      <th>2013-02-16</th>\n",
       "      <td>78666</td>\n",
       "    </tr>\n",
       "    <tr>\n",
       "      <th>2013-02-17</th>\n",
       "      <td>74956</td>\n",
       "    </tr>\n",
       "    <tr>\n",
       "      <th>2013-02-18</th>\n",
       "      <td>71359</td>\n",
       "    </tr>\n",
       "    <tr>\n",
       "      <th>2013-02-19</th>\n",
       "      <td>70309</td>\n",
       "    </tr>\n",
       "    <tr>\n",
       "      <th>2013-02-20</th>\n",
       "      <td>72000</td>\n",
       "    </tr>\n",
       "    <tr>\n",
       "      <th>2013-02-21</th>\n",
       "      <td>77571</td>\n",
       "    </tr>\n",
       "    <tr>\n",
       "      <th>2013-02-22</th>\n",
       "      <td>80345</td>\n",
       "    </tr>\n",
       "    <tr>\n",
       "      <th>2013-02-23</th>\n",
       "      <td>89468</td>\n",
       "    </tr>\n",
       "    <tr>\n",
       "      <th>2013-02-24</th>\n",
       "      <td>88286</td>\n",
       "    </tr>\n",
       "    <tr>\n",
       "      <th>2013-02-25</th>\n",
       "      <td>70160</td>\n",
       "    </tr>\n",
       "  </tbody>\n",
       "</table>\n",
       "</div>"
      ],
      "text/plain": [
       "                0\n",
       "day              \n",
       "2013-01-28  69123\n",
       "2013-01-29  98501\n",
       "2013-01-30  75435\n",
       "2013-01-31  71642\n",
       "2013-02-01  75419\n",
       "2013-02-02  72197\n",
       "2013-02-03  46374\n",
       "2013-02-04  34824\n",
       "2013-02-05  62784\n",
       "2013-02-06  79157\n",
       "2013-02-07  72738\n",
       "2013-02-08  80017\n",
       "2013-02-09  87639\n",
       "2013-02-10  79522\n",
       "2013-02-11  64506\n",
       "2013-02-12  69265\n",
       "2013-02-13  75196\n",
       "2013-02-14  69675\n",
       "2013-02-15  72621\n",
       "2013-02-16  78666\n",
       "2013-02-17  74956\n",
       "2013-02-18  71359\n",
       "2013-02-19  70309\n",
       "2013-02-20  72000\n",
       "2013-02-21  77571\n",
       "2013-02-22  80345\n",
       "2013-02-23  89468\n",
       "2013-02-24  88286\n",
       "2013-02-25  70160"
      ]
     },
     "execution_count": 15,
     "metadata": {},
     "output_type": "execute_result"
    }
   ],
   "source": [
    "print('Number of tweets on each day:')\n",
    "\n",
    "daydf = pd.DataFrame(rawdf.created_at.str.split('T',1).tolist(),\n",
    "                     columns = ['day','created_at'])\n",
    "daysdf = pd.DataFrame(daydf.groupby(['day']).apply(len))\n",
    "daysdf.head(50)"
   ]
  },
  {
   "cell_type": "code",
   "execution_count": 21,
   "metadata": {
    "collapsed": false
   },
   "outputs": [
    {
     "name": "stdout",
     "output_type": "stream",
     "text": [
      "Number of tweets on each day in ascending order:\n"
     ]
    },
    {
     "data": {
      "text/html": [
       "<div>\n",
       "<table border=\"1\" class=\"dataframe\">\n",
       "  <thead>\n",
       "    <tr style=\"text-align: right;\">\n",
       "      <th></th>\n",
       "      <th>0</th>\n",
       "    </tr>\n",
       "    <tr>\n",
       "      <th>day</th>\n",
       "      <th></th>\n",
       "    </tr>\n",
       "  </thead>\n",
       "  <tbody>\n",
       "    <tr>\n",
       "      <th>2013-01-29</th>\n",
       "      <td>98501</td>\n",
       "    </tr>\n",
       "    <tr>\n",
       "      <th>2013-02-23</th>\n",
       "      <td>89468</td>\n",
       "    </tr>\n",
       "    <tr>\n",
       "      <th>2013-02-24</th>\n",
       "      <td>88286</td>\n",
       "    </tr>\n",
       "    <tr>\n",
       "      <th>2013-02-09</th>\n",
       "      <td>87639</td>\n",
       "    </tr>\n",
       "    <tr>\n",
       "      <th>2013-02-22</th>\n",
       "      <td>80345</td>\n",
       "    </tr>\n",
       "    <tr>\n",
       "      <th>2013-02-08</th>\n",
       "      <td>80017</td>\n",
       "    </tr>\n",
       "    <tr>\n",
       "      <th>2013-02-10</th>\n",
       "      <td>79522</td>\n",
       "    </tr>\n",
       "    <tr>\n",
       "      <th>2013-02-06</th>\n",
       "      <td>79157</td>\n",
       "    </tr>\n",
       "    <tr>\n",
       "      <th>2013-02-16</th>\n",
       "      <td>78666</td>\n",
       "    </tr>\n",
       "    <tr>\n",
       "      <th>2013-02-21</th>\n",
       "      <td>77571</td>\n",
       "    </tr>\n",
       "    <tr>\n",
       "      <th>2013-01-30</th>\n",
       "      <td>75435</td>\n",
       "    </tr>\n",
       "    <tr>\n",
       "      <th>2013-02-01</th>\n",
       "      <td>75419</td>\n",
       "    </tr>\n",
       "    <tr>\n",
       "      <th>2013-02-13</th>\n",
       "      <td>75196</td>\n",
       "    </tr>\n",
       "    <tr>\n",
       "      <th>2013-02-17</th>\n",
       "      <td>74956</td>\n",
       "    </tr>\n",
       "    <tr>\n",
       "      <th>2013-02-07</th>\n",
       "      <td>72738</td>\n",
       "    </tr>\n",
       "    <tr>\n",
       "      <th>2013-02-15</th>\n",
       "      <td>72621</td>\n",
       "    </tr>\n",
       "    <tr>\n",
       "      <th>2013-02-02</th>\n",
       "      <td>72197</td>\n",
       "    </tr>\n",
       "    <tr>\n",
       "      <th>2013-02-20</th>\n",
       "      <td>72000</td>\n",
       "    </tr>\n",
       "    <tr>\n",
       "      <th>2013-01-31</th>\n",
       "      <td>71642</td>\n",
       "    </tr>\n",
       "    <tr>\n",
       "      <th>2013-02-18</th>\n",
       "      <td>71359</td>\n",
       "    </tr>\n",
       "    <tr>\n",
       "      <th>2013-02-19</th>\n",
       "      <td>70309</td>\n",
       "    </tr>\n",
       "    <tr>\n",
       "      <th>2013-02-25</th>\n",
       "      <td>70160</td>\n",
       "    </tr>\n",
       "    <tr>\n",
       "      <th>2013-02-14</th>\n",
       "      <td>69675</td>\n",
       "    </tr>\n",
       "    <tr>\n",
       "      <th>2013-02-12</th>\n",
       "      <td>69265</td>\n",
       "    </tr>\n",
       "    <tr>\n",
       "      <th>2013-01-28</th>\n",
       "      <td>69123</td>\n",
       "    </tr>\n",
       "    <tr>\n",
       "      <th>2013-02-11</th>\n",
       "      <td>64506</td>\n",
       "    </tr>\n",
       "    <tr>\n",
       "      <th>2013-02-05</th>\n",
       "      <td>62784</td>\n",
       "    </tr>\n",
       "    <tr>\n",
       "      <th>2013-02-03</th>\n",
       "      <td>46374</td>\n",
       "    </tr>\n",
       "    <tr>\n",
       "      <th>2013-02-04</th>\n",
       "      <td>34824</td>\n",
       "    </tr>\n",
       "  </tbody>\n",
       "</table>\n",
       "</div>"
      ],
      "text/plain": [
       "                0\n",
       "day              \n",
       "2013-01-29  98501\n",
       "2013-02-23  89468\n",
       "2013-02-24  88286\n",
       "2013-02-09  87639\n",
       "2013-02-22  80345\n",
       "2013-02-08  80017\n",
       "2013-02-10  79522\n",
       "2013-02-06  79157\n",
       "2013-02-16  78666\n",
       "2013-02-21  77571\n",
       "2013-01-30  75435\n",
       "2013-02-01  75419\n",
       "2013-02-13  75196\n",
       "2013-02-17  74956\n",
       "2013-02-07  72738\n",
       "2013-02-15  72621\n",
       "2013-02-02  72197\n",
       "2013-02-20  72000\n",
       "2013-01-31  71642\n",
       "2013-02-18  71359\n",
       "2013-02-19  70309\n",
       "2013-02-25  70160\n",
       "2013-02-14  69675\n",
       "2013-02-12  69265\n",
       "2013-01-28  69123\n",
       "2013-02-11  64506\n",
       "2013-02-05  62784\n",
       "2013-02-03  46374\n",
       "2013-02-04  34824"
      ]
     },
     "execution_count": 21,
     "metadata": {},
     "output_type": "execute_result"
    }
   ],
   "source": [
    "print('Number of tweets on each day in ascending order:')\n",
    "\n",
    "daydf = pd.DataFrame(rawdf.created_at.str.split('T',1).tolist(),\n",
    "                     columns = ['day','created_at'])\n",
    "daysdf = pd.DataFrame(daydf.groupby(['day']).apply(len))\n",
    "daysdf.sort(columns=[0], ascending=False)"
   ]
  },
  {
   "cell_type": "code",
   "execution_count": 22,
   "metadata": {
    "collapsed": false
   },
   "outputs": [
    {
     "data": {
      "text/plain": [
       "0    73439.83\n",
       "dtype: float64"
      ]
     },
     "execution_count": 22,
     "metadata": {},
     "output_type": "execute_result"
    }
   ],
   "source": [
    "daysdf.mean(0).round(2)"
   ]
  },
  {
   "cell_type": "markdown",
   "metadata": {
    "collapsed": true
   },
   "source": [
    "The mean average of the number of tweets on a given day is **73439.83**."
   ]
  },
  {
   "cell_type": "markdown",
   "metadata": {},
   "source": [
    "### Question 7 - Day of the week with highest volume of traffic?"
   ]
  },
  {
   "cell_type": "code",
   "execution_count": 35,
   "metadata": {
    "collapsed": false
   },
   "outputs": [
    {
     "data": {
      "text/html": [
       "<div>\n",
       "<table border=\"1\" class=\"dataframe\">\n",
       "  <thead>\n",
       "    <tr style=\"text-align: right;\">\n",
       "      <th></th>\n",
       "      <th>day</th>\n",
       "      <th>day_of_week</th>\n",
       "    </tr>\n",
       "  </thead>\n",
       "  <tbody>\n",
       "    <tr>\n",
       "      <th>0</th>\n",
       "      <td>2013-01-28</td>\n",
       "      <td>0</td>\n",
       "    </tr>\n",
       "    <tr>\n",
       "      <th>1</th>\n",
       "      <td>2013-01-29</td>\n",
       "      <td>1</td>\n",
       "    </tr>\n",
       "    <tr>\n",
       "      <th>2</th>\n",
       "      <td>2013-01-30</td>\n",
       "      <td>2</td>\n",
       "    </tr>\n",
       "    <tr>\n",
       "      <th>3</th>\n",
       "      <td>2013-01-31</td>\n",
       "      <td>3</td>\n",
       "    </tr>\n",
       "    <tr>\n",
       "      <th>4</th>\n",
       "      <td>2013-02-01</td>\n",
       "      <td>4</td>\n",
       "    </tr>\n",
       "    <tr>\n",
       "      <th>5</th>\n",
       "      <td>2013-02-02</td>\n",
       "      <td>5</td>\n",
       "    </tr>\n",
       "    <tr>\n",
       "      <th>6</th>\n",
       "      <td>2013-02-03</td>\n",
       "      <td>6</td>\n",
       "    </tr>\n",
       "    <tr>\n",
       "      <th>7</th>\n",
       "      <td>2013-02-04</td>\n",
       "      <td>0</td>\n",
       "    </tr>\n",
       "    <tr>\n",
       "      <th>8</th>\n",
       "      <td>2013-02-05</td>\n",
       "      <td>1</td>\n",
       "    </tr>\n",
       "    <tr>\n",
       "      <th>9</th>\n",
       "      <td>2013-02-06</td>\n",
       "      <td>2</td>\n",
       "    </tr>\n",
       "    <tr>\n",
       "      <th>10</th>\n",
       "      <td>2013-02-07</td>\n",
       "      <td>3</td>\n",
       "    </tr>\n",
       "    <tr>\n",
       "      <th>11</th>\n",
       "      <td>2013-02-08</td>\n",
       "      <td>4</td>\n",
       "    </tr>\n",
       "    <tr>\n",
       "      <th>12</th>\n",
       "      <td>2013-02-09</td>\n",
       "      <td>5</td>\n",
       "    </tr>\n",
       "    <tr>\n",
       "      <th>13</th>\n",
       "      <td>2013-02-10</td>\n",
       "      <td>6</td>\n",
       "    </tr>\n",
       "    <tr>\n",
       "      <th>14</th>\n",
       "      <td>2013-02-11</td>\n",
       "      <td>0</td>\n",
       "    </tr>\n",
       "    <tr>\n",
       "      <th>15</th>\n",
       "      <td>2013-02-12</td>\n",
       "      <td>1</td>\n",
       "    </tr>\n",
       "    <tr>\n",
       "      <th>16</th>\n",
       "      <td>2013-02-13</td>\n",
       "      <td>2</td>\n",
       "    </tr>\n",
       "    <tr>\n",
       "      <th>17</th>\n",
       "      <td>2013-02-14</td>\n",
       "      <td>3</td>\n",
       "    </tr>\n",
       "    <tr>\n",
       "      <th>18</th>\n",
       "      <td>2013-02-15</td>\n",
       "      <td>4</td>\n",
       "    </tr>\n",
       "    <tr>\n",
       "      <th>19</th>\n",
       "      <td>2013-02-16</td>\n",
       "      <td>5</td>\n",
       "    </tr>\n",
       "    <tr>\n",
       "      <th>20</th>\n",
       "      <td>2013-02-17</td>\n",
       "      <td>6</td>\n",
       "    </tr>\n",
       "    <tr>\n",
       "      <th>21</th>\n",
       "      <td>2013-02-18</td>\n",
       "      <td>0</td>\n",
       "    </tr>\n",
       "    <tr>\n",
       "      <th>22</th>\n",
       "      <td>2013-02-19</td>\n",
       "      <td>1</td>\n",
       "    </tr>\n",
       "    <tr>\n",
       "      <th>23</th>\n",
       "      <td>2013-02-20</td>\n",
       "      <td>2</td>\n",
       "    </tr>\n",
       "    <tr>\n",
       "      <th>24</th>\n",
       "      <td>2013-02-21</td>\n",
       "      <td>3</td>\n",
       "    </tr>\n",
       "    <tr>\n",
       "      <th>25</th>\n",
       "      <td>2013-02-22</td>\n",
       "      <td>4</td>\n",
       "    </tr>\n",
       "    <tr>\n",
       "      <th>26</th>\n",
       "      <td>2013-02-23</td>\n",
       "      <td>5</td>\n",
       "    </tr>\n",
       "    <tr>\n",
       "      <th>27</th>\n",
       "      <td>2013-02-24</td>\n",
       "      <td>6</td>\n",
       "    </tr>\n",
       "    <tr>\n",
       "      <th>28</th>\n",
       "      <td>2013-02-25</td>\n",
       "      <td>0</td>\n",
       "    </tr>\n",
       "  </tbody>\n",
       "</table>\n",
       "</div>"
      ],
      "text/plain": [
       "          day  day_of_week\n",
       "0  2013-01-28            0\n",
       "1  2013-01-29            1\n",
       "2  2013-01-30            2\n",
       "3  2013-01-31            3\n",
       "4  2013-02-01            4\n",
       "5  2013-02-02            5\n",
       "6  2013-02-03            6\n",
       "7  2013-02-04            0\n",
       "8  2013-02-05            1\n",
       "9  2013-02-06            2\n",
       "10 2013-02-07            3\n",
       "11 2013-02-08            4\n",
       "12 2013-02-09            5\n",
       "13 2013-02-10            6\n",
       "14 2013-02-11            0\n",
       "15 2013-02-12            1\n",
       "16 2013-02-13            2\n",
       "17 2013-02-14            3\n",
       "18 2013-02-15            4\n",
       "19 2013-02-16            5\n",
       "20 2013-02-17            6\n",
       "21 2013-02-18            0\n",
       "22 2013-02-19            1\n",
       "23 2013-02-20            2\n",
       "24 2013-02-21            3\n",
       "25 2013-02-22            4\n",
       "26 2013-02-23            5\n",
       "27 2013-02-24            6\n",
       "28 2013-02-25            0"
      ]
     },
     "execution_count": 35,
     "metadata": {},
     "output_type": "execute_result"
    }
   ],
   "source": [
    "raw2df = pd.DataFrame({'day':['1-28-2013','1-29-2013','1-30-2013','1-31-2013','2-1-2013','2-2-2013','2-3-2013','2-4-2013','2-5-2013','2-6-2013','2-7-2013','2-8-2013','2-9-2013','2-10-2013','2-11-2013','2-12-2013','2-13-2013','2-14-2013','2-15-2013','2-16-2013','2-17-2013','2-18-2013','2-19-2013','2-20-2013','2-21-2013','2-22-2013','2-23-2013','2-24-2013','2-25-2013']})\n",
    "                 \n",
    "raw2df['day'] = pd.to_datetime(raw2df['day'])\n",
    "raw2df['day_of_week'] = raw2df['day'].dt.dayofweek\n",
    "\n",
    "raw2df.head(30)"
   ]
  },
  {
   "cell_type": "code",
   "execution_count": 35,
   "metadata": {
    "collapsed": false
   },
   "outputs": [
    {
     "data": {
      "text/html": [
       "<div>\n",
       "<table border=\"1\" class=\"dataframe\">\n",
       "  <thead>\n",
       "    <tr style=\"text-align: right;\">\n",
       "      <th></th>\n",
       "      <th>0</th>\n",
       "    </tr>\n",
       "    <tr>\n",
       "      <th>day</th>\n",
       "      <th></th>\n",
       "    </tr>\n",
       "  </thead>\n",
       "  <tbody>\n",
       "    <tr>\n",
       "      <th>2013-01-28</th>\n",
       "      <td>69123</td>\n",
       "    </tr>\n",
       "    <tr>\n",
       "      <th>2013-01-29</th>\n",
       "      <td>98501</td>\n",
       "    </tr>\n",
       "  </tbody>\n",
       "</table>\n",
       "</div>"
      ],
      "text/plain": [
       "                0\n",
       "day              \n",
       "2013-01-28  69123\n",
       "2013-01-29  98501"
      ]
     },
     "execution_count": 35,
     "metadata": {},
     "output_type": "execute_result"
    }
   ],
   "source": [
    "daysdf.head(2)"
   ]
  },
  {
   "cell_type": "code",
   "execution_count": 36,
   "metadata": {
    "collapsed": false
   },
   "outputs": [
    {
     "data": {
      "text/html": [
       "<div>\n",
       "<table border=\"1\" class=\"dataframe\">\n",
       "  <thead>\n",
       "    <tr style=\"text-align: right;\">\n",
       "      <th></th>\n",
       "      <th>day</th>\n",
       "      <th>day_of_week</th>\n",
       "      <th>0</th>\n",
       "    </tr>\n",
       "  </thead>\n",
       "  <tbody>\n",
       "    <tr>\n",
       "      <th>0</th>\n",
       "      <td>2013-01-28</td>\n",
       "      <td>0</td>\n",
       "      <td>69123</td>\n",
       "    </tr>\n",
       "    <tr>\n",
       "      <th>1</th>\n",
       "      <td>2013-01-29</td>\n",
       "      <td>1</td>\n",
       "      <td>98501</td>\n",
       "    </tr>\n",
       "    <tr>\n",
       "      <th>2</th>\n",
       "      <td>2013-01-30</td>\n",
       "      <td>2</td>\n",
       "      <td>75435</td>\n",
       "    </tr>\n",
       "    <tr>\n",
       "      <th>3</th>\n",
       "      <td>2013-01-31</td>\n",
       "      <td>3</td>\n",
       "      <td>71642</td>\n",
       "    </tr>\n",
       "    <tr>\n",
       "      <th>4</th>\n",
       "      <td>2013-02-01</td>\n",
       "      <td>4</td>\n",
       "      <td>75419</td>\n",
       "    </tr>\n",
       "    <tr>\n",
       "      <th>5</th>\n",
       "      <td>2013-02-02</td>\n",
       "      <td>5</td>\n",
       "      <td>72197</td>\n",
       "    </tr>\n",
       "    <tr>\n",
       "      <th>6</th>\n",
       "      <td>2013-02-03</td>\n",
       "      <td>6</td>\n",
       "      <td>46374</td>\n",
       "    </tr>\n",
       "    <tr>\n",
       "      <th>7</th>\n",
       "      <td>2013-02-04</td>\n",
       "      <td>0</td>\n",
       "      <td>34824</td>\n",
       "    </tr>\n",
       "    <tr>\n",
       "      <th>8</th>\n",
       "      <td>2013-02-05</td>\n",
       "      <td>1</td>\n",
       "      <td>62784</td>\n",
       "    </tr>\n",
       "    <tr>\n",
       "      <th>9</th>\n",
       "      <td>2013-02-06</td>\n",
       "      <td>2</td>\n",
       "      <td>79157</td>\n",
       "    </tr>\n",
       "    <tr>\n",
       "      <th>10</th>\n",
       "      <td>2013-02-07</td>\n",
       "      <td>3</td>\n",
       "      <td>72738</td>\n",
       "    </tr>\n",
       "    <tr>\n",
       "      <th>11</th>\n",
       "      <td>2013-02-08</td>\n",
       "      <td>4</td>\n",
       "      <td>80017</td>\n",
       "    </tr>\n",
       "    <tr>\n",
       "      <th>12</th>\n",
       "      <td>2013-02-09</td>\n",
       "      <td>5</td>\n",
       "      <td>87639</td>\n",
       "    </tr>\n",
       "    <tr>\n",
       "      <th>13</th>\n",
       "      <td>2013-02-10</td>\n",
       "      <td>6</td>\n",
       "      <td>79522</td>\n",
       "    </tr>\n",
       "    <tr>\n",
       "      <th>14</th>\n",
       "      <td>2013-02-11</td>\n",
       "      <td>0</td>\n",
       "      <td>64506</td>\n",
       "    </tr>\n",
       "    <tr>\n",
       "      <th>15</th>\n",
       "      <td>2013-02-12</td>\n",
       "      <td>1</td>\n",
       "      <td>69265</td>\n",
       "    </tr>\n",
       "    <tr>\n",
       "      <th>16</th>\n",
       "      <td>2013-02-13</td>\n",
       "      <td>2</td>\n",
       "      <td>75196</td>\n",
       "    </tr>\n",
       "    <tr>\n",
       "      <th>17</th>\n",
       "      <td>2013-02-14</td>\n",
       "      <td>3</td>\n",
       "      <td>69675</td>\n",
       "    </tr>\n",
       "    <tr>\n",
       "      <th>18</th>\n",
       "      <td>2013-02-15</td>\n",
       "      <td>4</td>\n",
       "      <td>72621</td>\n",
       "    </tr>\n",
       "    <tr>\n",
       "      <th>19</th>\n",
       "      <td>2013-02-16</td>\n",
       "      <td>5</td>\n",
       "      <td>78666</td>\n",
       "    </tr>\n",
       "    <tr>\n",
       "      <th>20</th>\n",
       "      <td>2013-02-17</td>\n",
       "      <td>6</td>\n",
       "      <td>74956</td>\n",
       "    </tr>\n",
       "    <tr>\n",
       "      <th>21</th>\n",
       "      <td>2013-02-18</td>\n",
       "      <td>0</td>\n",
       "      <td>71359</td>\n",
       "    </tr>\n",
       "    <tr>\n",
       "      <th>22</th>\n",
       "      <td>2013-02-19</td>\n",
       "      <td>1</td>\n",
       "      <td>70309</td>\n",
       "    </tr>\n",
       "    <tr>\n",
       "      <th>23</th>\n",
       "      <td>2013-02-20</td>\n",
       "      <td>2</td>\n",
       "      <td>72000</td>\n",
       "    </tr>\n",
       "    <tr>\n",
       "      <th>24</th>\n",
       "      <td>2013-02-21</td>\n",
       "      <td>3</td>\n",
       "      <td>77571</td>\n",
       "    </tr>\n",
       "    <tr>\n",
       "      <th>25</th>\n",
       "      <td>2013-02-22</td>\n",
       "      <td>4</td>\n",
       "      <td>80345</td>\n",
       "    </tr>\n",
       "    <tr>\n",
       "      <th>26</th>\n",
       "      <td>2013-02-23</td>\n",
       "      <td>5</td>\n",
       "      <td>89468</td>\n",
       "    </tr>\n",
       "    <tr>\n",
       "      <th>27</th>\n",
       "      <td>2013-02-24</td>\n",
       "      <td>6</td>\n",
       "      <td>88286</td>\n",
       "    </tr>\n",
       "    <tr>\n",
       "      <th>28</th>\n",
       "      <td>2013-02-25</td>\n",
       "      <td>0</td>\n",
       "      <td>70160</td>\n",
       "    </tr>\n",
       "  </tbody>\n",
       "</table>\n",
       "</div>"
      ],
      "text/plain": [
       "          day  day_of_week      0\n",
       "0  2013-01-28            0  69123\n",
       "1  2013-01-29            1  98501\n",
       "2  2013-01-30            2  75435\n",
       "3  2013-01-31            3  71642\n",
       "4  2013-02-01            4  75419\n",
       "5  2013-02-02            5  72197\n",
       "6  2013-02-03            6  46374\n",
       "7  2013-02-04            0  34824\n",
       "8  2013-02-05            1  62784\n",
       "9  2013-02-06            2  79157\n",
       "10 2013-02-07            3  72738\n",
       "11 2013-02-08            4  80017\n",
       "12 2013-02-09            5  87639\n",
       "13 2013-02-10            6  79522\n",
       "14 2013-02-11            0  64506\n",
       "15 2013-02-12            1  69265\n",
       "16 2013-02-13            2  75196\n",
       "17 2013-02-14            3  69675\n",
       "18 2013-02-15            4  72621\n",
       "19 2013-02-16            5  78666\n",
       "20 2013-02-17            6  74956\n",
       "21 2013-02-18            0  71359\n",
       "22 2013-02-19            1  70309\n",
       "23 2013-02-20            2  72000\n",
       "24 2013-02-21            3  77571\n",
       "25 2013-02-22            4  80345\n",
       "26 2013-02-23            5  89468\n",
       "27 2013-02-24            6  88286\n",
       "28 2013-02-25            0  70160"
      ]
     },
     "execution_count": 36,
     "metadata": {},
     "output_type": "execute_result"
    }
   ],
   "source": [
    "#pd.merge(rawdf, daysdf, on='day', how='outer')\n",
    "\n",
    "raw2df = pd.merge(raw2df, daysdf, on=raw2df.day, how='outer')\n",
    "\n",
    "raw2df.head(30)"
   ]
  },
  {
   "cell_type": "code",
   "execution_count": 40,
   "metadata": {
    "collapsed": false
   },
   "outputs": [
    {
     "data": {
      "text/html": [
       "<div>\n",
       "<table border=\"1\" class=\"dataframe\">\n",
       "  <thead>\n",
       "    <tr style=\"text-align: right;\">\n",
       "      <th></th>\n",
       "      <th>day_of_week</th>\n",
       "      <th>0</th>\n",
       "    </tr>\n",
       "    <tr>\n",
       "      <th>day_of_week</th>\n",
       "      <th></th>\n",
       "      <th></th>\n",
       "    </tr>\n",
       "  </thead>\n",
       "  <tbody>\n",
       "    <tr>\n",
       "      <th>0</th>\n",
       "      <td>0</td>\n",
       "      <td>309972</td>\n",
       "    </tr>\n",
       "    <tr>\n",
       "      <th>1</th>\n",
       "      <td>4</td>\n",
       "      <td>300859</td>\n",
       "    </tr>\n",
       "    <tr>\n",
       "      <th>2</th>\n",
       "      <td>8</td>\n",
       "      <td>301788</td>\n",
       "    </tr>\n",
       "    <tr>\n",
       "      <th>3</th>\n",
       "      <td>12</td>\n",
       "      <td>291626</td>\n",
       "    </tr>\n",
       "    <tr>\n",
       "      <th>4</th>\n",
       "      <td>16</td>\n",
       "      <td>308402</td>\n",
       "    </tr>\n",
       "    <tr>\n",
       "      <th>5</th>\n",
       "      <td>20</td>\n",
       "      <td>327970</td>\n",
       "    </tr>\n",
       "    <tr>\n",
       "      <th>6</th>\n",
       "      <td>24</td>\n",
       "      <td>289138</td>\n",
       "    </tr>\n",
       "  </tbody>\n",
       "</table>\n",
       "</div>"
      ],
      "text/plain": [
       "             day_of_week       0\n",
       "day_of_week                     \n",
       "0                      0  309972\n",
       "1                      4  300859\n",
       "2                      8  301788\n",
       "3                     12  291626\n",
       "4                     16  308402\n",
       "5                     20  327970\n",
       "6                     24  289138"
      ]
     },
     "execution_count": 40,
     "metadata": {},
     "output_type": "execute_result"
    }
   ],
   "source": [
    "dowdf = pd.DataFrame(raw2df.groupby(['day_of_week']).apply(sum))\n",
    "#dowdf.sort(columns=[0], ascending=False).head(10)\n",
    "dowdf.head(10)"
   ]
  },
  {
   "cell_type": "markdown",
   "metadata": {},
   "source": [
    "We can see that the day of the week with the most amount of traffic is day 5 in the day of the week index, **Saturday**, with **327970** tweets."
   ]
  },
  {
   "cell_type": "markdown",
   "metadata": {},
   "source": [
    "### Question 8 - Which is the most popular user_location?"
   ]
  },
  {
   "cell_type": "code",
   "execution_count": 40,
   "metadata": {
    "collapsed": false
   },
   "outputs": [
    {
     "name": "stdout",
     "output_type": "stream",
     "text": [
      "Question 8 - Which is the most popular user_location?\n"
     ]
    },
    {
     "data": {
      "text/html": [
       "<div>\n",
       "<table border=\"1\" class=\"dataframe\">\n",
       "  <thead>\n",
       "    <tr style=\"text-align: right;\">\n",
       "      <th></th>\n",
       "      <th>0</th>\n",
       "    </tr>\n",
       "    <tr>\n",
       "      <th>user_location</th>\n",
       "      <th></th>\n",
       "    </tr>\n",
       "  </thead>\n",
       "  <tbody>\n",
       "    <tr>\n",
       "      <th>London</th>\n",
       "      <td>21250</td>\n",
       "    </tr>\n",
       "    <tr>\n",
       "      <th>New York, NY</th>\n",
       "      <td>12095</td>\n",
       "    </tr>\n",
       "    <tr>\n",
       "      <th>Los Angeles</th>\n",
       "      <td>11237</td>\n",
       "    </tr>\n",
       "    <tr>\n",
       "      <th>New York</th>\n",
       "      <td>10892</td>\n",
       "    </tr>\n",
       "    <tr>\n",
       "      <th>Los Angeles, CA</th>\n",
       "      <td>9456</td>\n",
       "    </tr>\n",
       "  </tbody>\n",
       "</table>\n",
       "</div>"
      ],
      "text/plain": [
       "                     0\n",
       "user_location         \n",
       "London           21250\n",
       "New York, NY     12095\n",
       "Los Angeles      11237\n",
       "New York         10892\n",
       "Los Angeles, CA   9456"
      ]
     },
     "execution_count": 40,
     "metadata": {},
     "output_type": "execute_result"
    }
   ],
   "source": [
    "print('Question 8 - Which is the most popular user_location?')\n",
    "\n",
    "locdf = pd.DataFrame(rawdf.groupby(['user_location']).apply(len))\n",
    "locdf.sort(columns=[0], ascending=False).head()"
   ]
  },
  {
   "cell_type": "markdown",
   "metadata": {
    "collapsed": false
   },
   "source": [
    "We can see that the most common user location in our dataset is London with **21250** tweets"
   ]
  },
  {
   "cell_type": "markdown",
   "metadata": {
    "collapsed": true
   },
   "source": [
    "### Question 9 - Which are the most popular hashtags?"
   ]
  },
  {
   "cell_type": "code",
   "execution_count": 41,
   "metadata": {
    "collapsed": false
   },
   "outputs": [
    {
     "ename": "AttributeError",
     "evalue": "'DataFrame' object has no attribute 'hashtags'",
     "output_type": "error",
     "traceback": [
      "\u001b[1;31m---------------------------------------------------------------------------\u001b[0m",
      "\u001b[1;31mAttributeError\u001b[0m                            Traceback (most recent call last)",
      "\u001b[1;32m<ipython-input-41-5fe1172aeb62>\u001b[0m in \u001b[0;36m<module>\u001b[1;34m()\u001b[0m\n\u001b[1;32m----> 1\u001b[1;33m \u001b[0mhashdf\u001b[0m \u001b[1;33m=\u001b[0m \u001b[0mpd\u001b[0m\u001b[1;33m.\u001b[0m\u001b[0mDataFrame\u001b[0m\u001b[1;33m(\u001b[0m\u001b[0mrawdf\u001b[0m\u001b[1;33m.\u001b[0m\u001b[0mhashtags\u001b[0m\u001b[1;33m.\u001b[0m\u001b[0mstr\u001b[0m\u001b[1;33m.\u001b[0m\u001b[0msplit\u001b[0m\u001b[1;33m(\u001b[0m\u001b[1;34m'text'\u001b[0m\u001b[1;33m,\u001b[0m\u001b[1;36m3\u001b[0m\u001b[1;33m)\u001b[0m\u001b[1;33m.\u001b[0m\u001b[0mtolist\u001b[0m\u001b[1;33m(\u001b[0m\u001b[1;33m)\u001b[0m\u001b[1;33m,\u001b[0m\u001b[0mcolumns\u001b[0m \u001b[1;33m=\u001b[0m \u001b[1;33m[\u001b[0m\u001b[1;34m'body'\u001b[0m\u001b[1;33m,\u001b[0m\u001b[1;34m'hashtag1'\u001b[0m\u001b[1;33m,\u001b[0m\u001b[1;34m'hashtag2'\u001b[0m\u001b[1;33m,\u001b[0m\u001b[1;34m'hashtag3'\u001b[0m\u001b[1;33m]\u001b[0m\u001b[1;33m)\u001b[0m\u001b[1;33m\u001b[0m\u001b[0m\n\u001b[0m\u001b[0;32m      2\u001b[0m \u001b[1;33m\u001b[0m\u001b[0m\n\u001b[0;32m      3\u001b[0m \u001b[0mhashdf\u001b[0m\u001b[1;33m.\u001b[0m\u001b[0mhead\u001b[0m\u001b[1;33m(\u001b[0m\u001b[1;33m)\u001b[0m\u001b[1;33m\u001b[0m\u001b[0m\n",
      "\u001b[1;32mC:\\Users\\Hugo\\Anaconda3\\lib\\site-packages\\pandas\\core\\generic.py\u001b[0m in \u001b[0;36m__getattr__\u001b[1;34m(self, name)\u001b[0m\n\u001b[0;32m   2358\u001b[0m                 \u001b[1;32mreturn\u001b[0m \u001b[0mself\u001b[0m\u001b[1;33m[\u001b[0m\u001b[0mname\u001b[0m\u001b[1;33m]\u001b[0m\u001b[1;33m\u001b[0m\u001b[0m\n\u001b[0;32m   2359\u001b[0m             raise AttributeError(\"'%s' object has no attribute '%s'\" %\n\u001b[1;32m-> 2360\u001b[1;33m                                  (type(self).__name__, name))\n\u001b[0m\u001b[0;32m   2361\u001b[0m \u001b[1;33m\u001b[0m\u001b[0m\n\u001b[0;32m   2362\u001b[0m     \u001b[1;32mdef\u001b[0m \u001b[0m__setattr__\u001b[0m\u001b[1;33m(\u001b[0m\u001b[0mself\u001b[0m\u001b[1;33m,\u001b[0m \u001b[0mname\u001b[0m\u001b[1;33m,\u001b[0m \u001b[0mvalue\u001b[0m\u001b[1;33m)\u001b[0m\u001b[1;33m:\u001b[0m\u001b[1;33m\u001b[0m\u001b[0m\n",
      "\u001b[1;31mAttributeError\u001b[0m: 'DataFrame' object has no attribute 'hashtags'"
     ]
    }
   ],
   "source": [
    "hashdf = pd.DataFrame(rawdf.hashtags.str.split('text',3).tolist(),columns = ['body','hashtag1','hashtag2','hashtag3'])\n",
    "\n",
    "hashdf.head()"
   ]
  },
  {
   "cell_type": "code",
   "execution_count": null,
   "metadata": {
    "collapsed": true
   },
   "outputs": [],
   "source": []
  }
 ],
 "metadata": {
  "kernelspec": {
   "display_name": "Python 3",
   "language": "python",
   "name": "python3"
  },
  "language_info": {
   "codemirror_mode": {
    "name": "ipython",
    "version": 3
   },
   "file_extension": ".py",
   "mimetype": "text/x-python",
   "name": "python",
   "nbconvert_exporter": "python",
   "pygments_lexer": "ipython3",
   "version": "3.5.1"
  }
 },
 "nbformat": 4,
 "nbformat_minor": 0
}
